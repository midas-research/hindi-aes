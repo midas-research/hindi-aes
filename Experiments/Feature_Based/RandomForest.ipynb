{
  "nbformat": 4,
  "nbformat_minor": 0,
  "metadata": {
    "colab": {
      "provenance": []
    },
    "kernelspec": {
      "name": "python3",
      "display_name": "Python 3"
    },
    "language_info": {
      "name": "python"
    }
  },
  "cells": [
    {
      "cell_type": "code",
      "execution_count": null,
      "metadata": {
        "id": "5MObxkj-x37Y"
      },
      "outputs": [],
      "source": [
        "import pandas as pd\n",
        "import numpy as np\n",
        "from sklearn.model_selection import train_test_split\n",
        "from sklearn.ensemble import RandomForestClassifier\n",
        "from sklearn import metrics"
      ]
    },
    {
      "cell_type": "code",
      "source": [
        "def func2():\n",
        "  # a=x\n",
        "  try:\n",
        "    name=\"/content/organic\"\n",
        "    name=name+'.csv'\n",
        "    df = pd.read_csv(name, encoding = 'utf-8', engine = None) \n",
        "    df.overlap_score= (df.overlap_score-df.overlap_score.min())/(df.overlap_score.max()-df.overlap_score.min())\n",
        "    df.unique_words_count= (df.unique_words_count-df.unique_words_count.min())/(df.unique_words_count.max()-df.unique_words_count.min())\n",
        "    df.essay_length= (df.essay_length-df.essay_length.min())/(df.essay_length.max()-df.essay_length.min())\n",
        "    df.average_sentence_length= (df.average_sentence_length-df.average_sentence_length.min())/(df.average_sentence_length.max()-df.average_sentence_length.min())\n",
        "    df.average_word_length= (df.average_word_length-df.average_word_length.min())/(df.average_word_length.max()-df.average_word_length.min())\n",
        "    df.readability= (df.readability-df.readability.min())/(df.readability.max()-df.readability.min())\n",
        "    x=df[['unique_words_count','overlap_score','essay_length','average_sentence_length','average_word_length','readability']]\n",
        "    y=df['score']\n",
        "    x_train, x_test, y_train, y_test = train_test_split(x, y, test_size = 0.4, random_state=42)\n",
        "\n",
        "    x_test, x_valid, y_test, y_valid = train_test_split(x_test, y_test, test_size = 0.5, random_state=42)\n",
        "\n",
        "    clf = RandomForestClassifier(n_estimators = 30,max_depth=27,min_samples_split=4) \n",
        "    clf.fit(x_train, y_train)\n",
        "    y_pred = clf.predict(x_test)\n",
        "    # print(y_pred)\n",
        "    qwk=metrics.cohen_kappa_score(y_test, y_pred, labels=None, weights='quadratic', sample_weight=None)\n",
        "    print(\"Quadratic Weighted Kappa of prompt organic\"+\" \"+str(qwk))\n",
        "  except:\n",
        "    print(\"Error in prompt \")"
      ],
      "metadata": {
        "id": "aInZTqRlWdbN"
      },
      "execution_count": null,
      "outputs": []
    },
    {
      "cell_type": "code",
      "source": [
        "func2()"
      ],
      "metadata": {
        "colab": {
          "base_uri": "https://localhost:8080/"
        },
        "id": "2VhbDOvLWdr_",
        "outputId": "931b6731-d359-47ec-80ea-6926d7af40bc"
      },
      "execution_count": null,
      "outputs": [
        {
          "output_type": "stream",
          "name": "stdout",
          "text": [
            "Quadratic Weighted Kappa of prompt organic 0.7834158415841584\n"
          ]
        }
      ]
    }
  ]
}