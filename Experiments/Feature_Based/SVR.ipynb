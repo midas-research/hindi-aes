{
  "nbformat": 4,
  "nbformat_minor": 0,
  "metadata": {
    "colab": {
      "provenance": []
    },
    "kernelspec": {
      "name": "python3",
      "display_name": "Python 3"
    },
    "language_info": {
      "name": "python"
    }
  },
  "cells": [
    {
      "cell_type": "code",
      "execution_count": null,
      "metadata": {
        "id": "qijSBR_ImOhU"
      },
      "outputs": [],
      "source": [
        "import pandas as pd\n",
        "import numpy as np\n",
        "from sklearn import metrics\n",
        "import numpy as np\n",
        "from sklearn.datasets import make_classification\n",
        "from sklearn.svm import SVR\n",
        "from sklearn import svm\n",
        "from sklearn.model_selection import train_test_split"
      ]
    },
    {
      "cell_type": "code",
      "source": [
        "c=[]\n",
        "def func1(C):\n",
        "  # a=x\n",
        "  # try:\n",
        "  name=\"/content/organic\"\n",
        "  name=name+'.csv'\n",
        "  df = pd.read_csv(name)\n",
        "  df.overlap_score= (df.overlap_score-df.overlap_score.min())/(df.overlap_score.max()-df.overlap_score.min())\n",
        "  df.unique_words_count= (df.unique_words_count-df.unique_words_count.min())/(df.unique_words_count.max()-df.unique_words_count.min())\n",
        "  df.essay_length= (df.essay_length-df.essay_length.min())/(df.essay_length.max()-df.essay_length.min())\n",
        "  df.average_sentence_length= (df.average_sentence_length-df.average_sentence_length.min())/(df.average_sentence_length.max()-df.average_sentence_length.min())\n",
        "  df.average_word_length= (df.average_word_length-df.average_word_length.min())/(df.average_word_length.max()-df.average_word_length.min())\n",
        "  df.readability= (df.readability-df.readability.min())/(df.readability.max()-df.readability.min())\n",
        "  x=df[['unique_words_count','overlap_score','essay_length','average_sentence_length','average_word_length','readability']]\n",
        "  y=df['score']\n",
        "  x_train, x_test, y_train, y_test = train_test_split(x, y, test_size = 0.4, random_state=42)\n",
        "  x_test, x_valid, y_test, y_valid = train_test_split(x_test, y_test, test_size = 0.5, random_state=42)\n",
        "  y_train = np.asarray(y_train)\n",
        "  y_train=y_train.reshape(-1,1)\n",
        "  regressor = SVR(kernel = 'rbf',C=C)\n",
        "  regressor.fit(x_train, y_train.ravel())\n",
        "  y_pred=regressor.predict(x_test)\n",
        "  y_pred=np.around(y_pred,0)\n",
        "  # print(y_pred)\n",
        "  qwk=metrics.cohen_kappa_score(y_test, y_pred, labels=None, weights='quadratic', sample_weight=None)\n",
        "  print(\"Quadratic Weighted Kappa of prompt organic\"+\" \"+str(qwk))\n",
        "  # except:\n",
        "  #   print(\"Error in prompt \"+str(a))"
      ],
      "metadata": {
        "id": "f27m_C5omfvM"
      },
      "execution_count": null,
      "outputs": []
    },
    {
      "cell_type": "code",
      "source": [
        "func1(2)"
      ],
      "metadata": {
        "colab": {
          "base_uri": "https://localhost:8080/"
        },
        "id": "-_DD0vxooA-c",
        "outputId": "dcdbe9d6-ce62-4381-ca1b-ee49d03b1ee7"
      },
      "execution_count": null,
      "outputs": [
        {
          "output_type": "stream",
          "name": "stdout",
          "text": [
            "Quadratic Weighted Kappa of prompt organic 0.1336834566722369\n"
          ]
        }
      ]
    }
  ]
}