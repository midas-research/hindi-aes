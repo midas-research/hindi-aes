{
  "nbformat": 4,
  "nbformat_minor": 0,
  "metadata": {
    "colab": {
      "provenance": []
    },
    "kernelspec": {
      "name": "python3",
      "display_name": "Python 3"
    },
    "language_info": {
      "name": "python"
    }
  },
  "cells": [
    {
      "cell_type": "code",
      "source": [
        "!pip install xgboost"
      ],
      "metadata": {
        "colab": {
          "base_uri": "https://localhost:8080/"
        },
        "id": "Mq66hC3vHcIt",
        "outputId": "093b3b34-d601-4211-e07b-cff7d524c543"
      },
      "execution_count": null,
      "outputs": [
        {
          "output_type": "stream",
          "name": "stdout",
          "text": [
            "Looking in indexes: https://pypi.org/simple, https://us-python.pkg.dev/colab-wheels/public/simple/\n",
            "Requirement already satisfied: xgboost in /usr/local/lib/python3.7/dist-packages (0.90)\n",
            "Requirement already satisfied: numpy in /usr/local/lib/python3.7/dist-packages (from xgboost) (1.21.6)\n",
            "Requirement already satisfied: scipy in /usr/local/lib/python3.7/dist-packages (from xgboost) (1.7.3)\n"
          ]
        }
      ]
    },
    {
      "cell_type": "code",
      "execution_count": null,
      "metadata": {
        "id": "BVJBVsErJcFm"
      },
      "outputs": [],
      "source": [
        "import pandas as pd\n",
        "import numpy as np\n",
        "from sklearn.model_selection import train_test_split\n",
        "import xgboost\n",
        "from sklearn import metrics "
      ]
    },
    {
      "cell_type": "code",
      "source": [
        "def func2():\n",
        "  # a=x\n",
        "#   try:\n",
        "  name=\"/content/organic\"\n",
        "  name=name+'.csv'\n",
        "  df = pd.read_csv(name)\n",
        "  df.overlap_score= (df.overlap_score-df.overlap_score.min())/(df.overlap_score.max()-df.overlap_score.min())\n",
        "  df.unique_words_count= (df.unique_words_count-df.unique_words_count.min())/(df.unique_words_count.max()-df.unique_words_count.min())\n",
        "  df.essay_length= (df.essay_length-df.essay_length.min())/(df.essay_length.max()-df.essay_length.min())\n",
        "  df.average_sentence_length= (df.average_sentence_length-df.average_sentence_length.min())/(df.average_sentence_length.max()-df.average_sentence_length.min())\n",
        "  df.average_word_length= (df.average_word_length-df.average_word_length.min())/(df.average_word_length.max()-df.average_word_length.min())\n",
        "  df.readability= (df.readability-df.readability.min())/(df.readability.max()-df.readability.min())\n",
        "  x=df[['unique_words_count','overlap_score','essay_length','average_sentence_length','average_word_length','readability']]\n",
        "  y=df['score']\n",
        "  x_train, x_test, y_train, y_test = train_test_split(x, y, test_size = 0.4, random_state=42)\n",
        "\n",
        "  x_test, x_valid, y_test, y_valid = train_test_split(x_test, y_test, test_size = 0.5, random_state=42)\n",
        "  \n",
        "  model = xgboost.XGBRegressor()\n",
        "  model.fit(x_train,y_train)\n",
        "  y_pred = model.predict(x_test)\n",
        "  y_pred=np.around(y_pred,0)\n",
        "    # print(y_pred)\n",
        "  qwk=metrics.cohen_kappa_score(y_test, y_pred, labels=None, weights='quadratic', sample_weight=None)\n",
        "  print(\"Quadratic Weighted Kappa of prompt organic \"+str(qwk))\n",
        "  # except:\n",
        "  #   print(\"Error in prompt \"+str(a))"
      ],
      "metadata": {
        "id": "vZP3GhdJWrnM"
      },
      "execution_count": null,
      "outputs": []
    },
    {
      "cell_type": "code",
      "source": [
        "func2()"
      ],
      "metadata": {
        "colab": {
          "base_uri": "https://localhost:8080/"
        },
        "id": "jirEB-qAWr5c",
        "outputId": "ea7187f2-5923-469e-a325-d61750285f2d"
      },
      "execution_count": null,
      "outputs": [
        {
          "output_type": "stream",
          "name": "stdout",
          "text": [
            "[12:17:01] WARNING: /workspace/src/objective/regression_obj.cu:152: reg:linear is now deprecated in favor of reg:squarederror.\n",
            "Quadratic Weighted Kappa of prompt organic 0.8253105590062112\n"
          ]
        }
      ]
    }
  ]
}